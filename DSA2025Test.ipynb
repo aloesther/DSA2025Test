{
  "cells": [
    {
      "cell_type": "markdown",
      "metadata": {
        "id": "view-in-github",
        "colab_type": "text"
      },
      "source": [
        "<a href=\"https://colab.research.google.com/github/aloesther/DSA2025Test/blob/main/DSA2025Test.ipynb\" target=\"_parent\"><img src=\"https://colab.research.google.com/assets/colab-badge.svg\" alt=\"Open In Colab\"/></a>"
      ]
    },
    {
      "cell_type": "code",
      "execution_count": null,
      "metadata": {
        "deletable": false,
        "editable": false,
        "id": "Wa9_XOWuPWvn"
      },
      "outputs": [],
      "source": [
        "# Initialize Otter\n",
        "import otter\n",
        "grader = otter.Notebook(\"DSA2025Test.ipynb\")"
      ]
    },
    {
      "cell_type": "markdown",
      "metadata": {
        "id": "gwfD9EVCPWvt"
      },
      "source": [
        "# DSA 2025 Summer School Admittance Check\n",
        "\n",
        "Thanks for your interest in attending DSA 2025 Ibadan, Nigeria. To attend the summer school you have to have some level of basic Python proficiency. Completing the following notebook should ensure you have the right kind of background to benefit maximally from the Summer School. See you in Ibadan!\n",
        "\n",
        "## Instructions\n",
        "1. Complete each function according to the provided specifications\n",
        "2. Run all cells to verify your solutions\n",
        "3. All tests must pass to generate a submission\n",
        "4. Save your work before submitting"
      ]
    },
    {
      "source": [
        "# Run these once ... To be on a safe side\n",
        "!pip install nose\n",
        "!pip install otter-grader\n",
        "import IPython\n",
        "from IPython import get_ipython\n",
        "# Import the good stuff\n",
        "import pandas as pd\n",
        "import numpy as np\n",
        "import math\n",
        "from nose.tools import assert_equal\n",
        "import otter\n",
        "from collections import Counter\n",
        "# Assuming your tests are in a directory called \"tests\"\n",
        "# Create the directory if it doesn't exist\n",
        "import os\n",
        "if not os.path.exists(\"tests\"):\n",
        "    os.makedirs(\"tests\")\n",
        "\n",
        "grader = otter.Notebook(\"DSA2025Test.ipynb\", tests_dir= \"tests\")"
      ],
      "cell_type": "code",
      "metadata": {
        "colab": {
          "base_uri": "https://localhost:8080/"
        },
        "id": "mc3FahaORpEM",
        "outputId": "6c4ddf96-1332-41e1-e9c3-be1e18ac98c2"
      },
      "execution_count": null,
      "outputs": [
        {
          "output_type": "stream",
          "name": "stdout",
          "text": [
            "Requirement already satisfied: nose in /usr/local/lib/python3.11/dist-packages (1.3.7)\n",
            "Requirement already satisfied: otter-grader in /usr/local/lib/python3.11/dist-packages (6.1.1)\n",
            "Requirement already satisfied: click<9.0.0,>=8.1.7 in /usr/local/lib/python3.11/dist-packages (from otter-grader) (8.1.8)\n",
            "Requirement already satisfied: dill>=0.3.0 in /usr/local/lib/python3.11/dist-packages (from otter-grader) (0.3.9)\n",
            "Requirement already satisfied: fica>=0.4.1 in /usr/local/lib/python3.11/dist-packages (from otter-grader) (0.4.1)\n",
            "Requirement already satisfied: ipylab<2.0.0,>=1.0.0 in /usr/local/lib/python3.11/dist-packages (from otter-grader) (1.0.0)\n",
            "Requirement already satisfied: ipython in /usr/local/lib/python3.11/dist-packages (from otter-grader) (7.34.0)\n",
            "Requirement already satisfied: ipywidgets<9.0.0,>=8.1.5 in /usr/local/lib/python3.11/dist-packages (from otter-grader) (8.1.5)\n",
            "Requirement already satisfied: jinja2<4.0,>=3.1 in /usr/local/lib/python3.11/dist-packages (from otter-grader) (3.1.6)\n",
            "Requirement already satisfied: jupytext<2.0.0,>=1.16.4 in /usr/local/lib/python3.11/dist-packages (from otter-grader) (1.16.7)\n",
            "Requirement already satisfied: nbconvert>=6.0.0 in /usr/local/lib/python3.11/dist-packages (from nbconvert[webpdf]>=6.0.0; sys_platform != \"emscripten\" and sys_platform != \"wasi\"->otter-grader) (7.16.6)\n",
            "Requirement already satisfied: nbformat>=5.0.0 in /usr/local/lib/python3.11/dist-packages (from otter-grader) (5.10.4)\n",
            "Requirement already satisfied: pandas>=2.0.0 in /usr/local/lib/python3.11/dist-packages (from otter-grader) (2.2.2)\n",
            "Requirement already satisfied: python-on-whales<1.0.0,>=0.72.0 in /usr/local/lib/python3.11/dist-packages (from otter-grader) (0.75.1)\n",
            "Requirement already satisfied: pyyaml<7,>=6 in /usr/local/lib/python3.11/dist-packages (from otter-grader) (6.0.2)\n",
            "Requirement already satisfied: requests<3.0,>=2.31 in /usr/local/lib/python3.11/dist-packages (from otter-grader) (2.32.3)\n",
            "Requirement already satisfied: wrapt<2.0.0,>=1.16.0 in /usr/local/lib/python3.11/dist-packages (from otter-grader) (1.17.2)\n",
            "Requirement already satisfied: docutils in /usr/local/lib/python3.11/dist-packages (from fica>=0.4.1->otter-grader) (0.21.2)\n",
            "Requirement already satisfied: sphinx in /usr/local/lib/python3.11/dist-packages (from fica>=0.4.1->otter-grader) (8.2.3)\n",
            "Requirement already satisfied: comm>=0.1.3 in /usr/local/lib/python3.11/dist-packages (from ipywidgets<9.0.0,>=8.1.5->otter-grader) (0.2.2)\n",
            "Requirement already satisfied: traitlets>=4.3.1 in /usr/local/lib/python3.11/dist-packages (from ipywidgets<9.0.0,>=8.1.5->otter-grader) (5.7.1)\n",
            "Requirement already satisfied: widgetsnbextension~=4.0.12 in /usr/local/lib/python3.11/dist-packages (from ipywidgets<9.0.0,>=8.1.5->otter-grader) (4.0.13)\n",
            "Requirement already satisfied: jupyterlab-widgets~=3.0.12 in /usr/local/lib/python3.11/dist-packages (from ipywidgets<9.0.0,>=8.1.5->otter-grader) (3.0.13)\n",
            "Requirement already satisfied: setuptools>=18.5 in /usr/local/lib/python3.11/dist-packages (from ipython->otter-grader) (75.1.0)\n",
            "Requirement already satisfied: jedi>=0.16 in /usr/local/lib/python3.11/dist-packages (from ipython->otter-grader) (0.19.2)\n",
            "Requirement already satisfied: decorator in /usr/local/lib/python3.11/dist-packages (from ipython->otter-grader) (4.4.2)\n",
            "Requirement already satisfied: pickleshare in /usr/local/lib/python3.11/dist-packages (from ipython->otter-grader) (0.7.5)\n",
            "Requirement already satisfied: prompt-toolkit!=3.0.0,!=3.0.1,<3.1.0,>=2.0.0 in /usr/local/lib/python3.11/dist-packages (from ipython->otter-grader) (3.0.50)\n",
            "Requirement already satisfied: pygments in /usr/local/lib/python3.11/dist-packages (from ipython->otter-grader) (2.18.0)\n",
            "Requirement already satisfied: backcall in /usr/local/lib/python3.11/dist-packages (from ipython->otter-grader) (0.2.0)\n",
            "Requirement already satisfied: matplotlib-inline in /usr/local/lib/python3.11/dist-packages (from ipython->otter-grader) (0.1.7)\n",
            "Requirement already satisfied: pexpect>4.3 in /usr/local/lib/python3.11/dist-packages (from ipython->otter-grader) (4.9.0)\n",
            "Requirement already satisfied: MarkupSafe>=2.0 in /usr/local/lib/python3.11/dist-packages (from jinja2<4.0,>=3.1->otter-grader) (3.0.2)\n",
            "Requirement already satisfied: markdown-it-py>=1.0 in /usr/local/lib/python3.11/dist-packages (from jupytext<2.0.0,>=1.16.4->otter-grader) (3.0.0)\n",
            "Requirement already satisfied: mdit-py-plugins in /usr/local/lib/python3.11/dist-packages (from jupytext<2.0.0,>=1.16.4->otter-grader) (0.4.2)\n",
            "Requirement already satisfied: packaging in /usr/local/lib/python3.11/dist-packages (from jupytext<2.0.0,>=1.16.4->otter-grader) (24.2)\n",
            "Requirement already satisfied: beautifulsoup4 in /usr/local/lib/python3.11/dist-packages (from nbconvert>=6.0.0->nbconvert[webpdf]>=6.0.0; sys_platform != \"emscripten\" and sys_platform != \"wasi\"->otter-grader) (4.13.3)\n",
            "Requirement already satisfied: bleach!=5.0.0 in /usr/local/lib/python3.11/dist-packages (from bleach[css]!=5.0.0->nbconvert>=6.0.0->nbconvert[webpdf]>=6.0.0; sys_platform != \"emscripten\" and sys_platform != \"wasi\"->otter-grader) (6.2.0)\n",
            "Requirement already satisfied: defusedxml in /usr/local/lib/python3.11/dist-packages (from nbconvert>=6.0.0->nbconvert[webpdf]>=6.0.0; sys_platform != \"emscripten\" and sys_platform != \"wasi\"->otter-grader) (0.7.1)\n",
            "Requirement already satisfied: jupyter-core>=4.7 in /usr/local/lib/python3.11/dist-packages (from nbconvert>=6.0.0->nbconvert[webpdf]>=6.0.0; sys_platform != \"emscripten\" and sys_platform != \"wasi\"->otter-grader) (5.7.2)\n",
            "Requirement already satisfied: jupyterlab-pygments in /usr/local/lib/python3.11/dist-packages (from nbconvert>=6.0.0->nbconvert[webpdf]>=6.0.0; sys_platform != \"emscripten\" and sys_platform != \"wasi\"->otter-grader) (0.3.0)\n",
            "Requirement already satisfied: mistune<4,>=2.0.3 in /usr/local/lib/python3.11/dist-packages (from nbconvert>=6.0.0->nbconvert[webpdf]>=6.0.0; sys_platform != \"emscripten\" and sys_platform != \"wasi\"->otter-grader) (3.1.3)\n",
            "Requirement already satisfied: nbclient>=0.5.0 in /usr/local/lib/python3.11/dist-packages (from nbconvert>=6.0.0->nbconvert[webpdf]>=6.0.0; sys_platform != \"emscripten\" and sys_platform != \"wasi\"->otter-grader) (0.10.2)\n",
            "Requirement already satisfied: pandocfilters>=1.4.1 in /usr/local/lib/python3.11/dist-packages (from nbconvert>=6.0.0->nbconvert[webpdf]>=6.0.0; sys_platform != \"emscripten\" and sys_platform != \"wasi\"->otter-grader) (1.5.1)\n",
            "Requirement already satisfied: playwright in /usr/local/lib/python3.11/dist-packages (from nbconvert[webpdf]>=6.0.0; sys_platform != \"emscripten\" and sys_platform != \"wasi\"->otter-grader) (1.51.0)\n",
            "Requirement already satisfied: fastjsonschema>=2.15 in /usr/local/lib/python3.11/dist-packages (from nbformat>=5.0.0->otter-grader) (2.21.1)\n",
            "Requirement already satisfied: jsonschema>=2.6 in /usr/local/lib/python3.11/dist-packages (from nbformat>=5.0.0->otter-grader) (4.23.0)\n",
            "Requirement already satisfied: numpy>=1.23.2 in /usr/local/lib/python3.11/dist-packages (from pandas>=2.0.0->otter-grader) (2.0.2)\n",
            "Requirement already satisfied: python-dateutil>=2.8.2 in /usr/local/lib/python3.11/dist-packages (from pandas>=2.0.0->otter-grader) (2.8.2)\n",
            "Requirement already satisfied: pytz>=2020.1 in /usr/local/lib/python3.11/dist-packages (from pandas>=2.0.0->otter-grader) (2025.1)\n",
            "Requirement already satisfied: tzdata>=2022.7 in /usr/local/lib/python3.11/dist-packages (from pandas>=2.0.0->otter-grader) (2025.1)\n",
            "Requirement already satisfied: pydantic!=2.0.*,<3,>=2 in /usr/local/lib/python3.11/dist-packages (from python-on-whales<1.0.0,>=0.72.0->otter-grader) (2.10.6)\n",
            "Requirement already satisfied: typing-extensions in /usr/local/lib/python3.11/dist-packages (from python-on-whales<1.0.0,>=0.72.0->otter-grader) (4.12.2)\n",
            "Requirement already satisfied: charset-normalizer<4,>=2 in /usr/local/lib/python3.11/dist-packages (from requests<3.0,>=2.31->otter-grader) (3.4.1)\n",
            "Requirement already satisfied: idna<4,>=2.5 in /usr/local/lib/python3.11/dist-packages (from requests<3.0,>=2.31->otter-grader) (3.10)\n",
            "Requirement already satisfied: urllib3<3,>=1.21.1 in /usr/local/lib/python3.11/dist-packages (from requests<3.0,>=2.31->otter-grader) (2.3.0)\n",
            "Requirement already satisfied: certifi>=2017.4.17 in /usr/local/lib/python3.11/dist-packages (from requests<3.0,>=2.31->otter-grader) (2025.1.31)\n",
            "Requirement already satisfied: webencodings in /usr/local/lib/python3.11/dist-packages (from bleach!=5.0.0->bleach[css]!=5.0.0->nbconvert>=6.0.0->nbconvert[webpdf]>=6.0.0; sys_platform != \"emscripten\" and sys_platform != \"wasi\"->otter-grader) (0.5.1)\n",
            "Requirement already satisfied: tinycss2<1.5,>=1.1.0 in /usr/local/lib/python3.11/dist-packages (from bleach[css]!=5.0.0->nbconvert>=6.0.0->nbconvert[webpdf]>=6.0.0; sys_platform != \"emscripten\" and sys_platform != \"wasi\"->otter-grader) (1.4.0)\n",
            "Requirement already satisfied: parso<0.9.0,>=0.8.4 in /usr/local/lib/python3.11/dist-packages (from jedi>=0.16->ipython->otter-grader) (0.8.4)\n",
            "Requirement already satisfied: attrs>=22.2.0 in /usr/local/lib/python3.11/dist-packages (from jsonschema>=2.6->nbformat>=5.0.0->otter-grader) (25.3.0)\n",
            "Requirement already satisfied: jsonschema-specifications>=2023.03.6 in /usr/local/lib/python3.11/dist-packages (from jsonschema>=2.6->nbformat>=5.0.0->otter-grader) (2024.10.1)\n",
            "Requirement already satisfied: referencing>=0.28.4 in /usr/local/lib/python3.11/dist-packages (from jsonschema>=2.6->nbformat>=5.0.0->otter-grader) (0.36.2)\n",
            "Requirement already satisfied: rpds-py>=0.7.1 in /usr/local/lib/python3.11/dist-packages (from jsonschema>=2.6->nbformat>=5.0.0->otter-grader) (0.23.1)\n",
            "Requirement already satisfied: platformdirs>=2.5 in /usr/local/lib/python3.11/dist-packages (from jupyter-core>=4.7->nbconvert>=6.0.0->nbconvert[webpdf]>=6.0.0; sys_platform != \"emscripten\" and sys_platform != \"wasi\"->otter-grader) (4.3.7)\n",
            "Requirement already satisfied: mdurl~=0.1 in /usr/local/lib/python3.11/dist-packages (from markdown-it-py>=1.0->jupytext<2.0.0,>=1.16.4->otter-grader) (0.1.2)\n",
            "Requirement already satisfied: jupyter-client>=6.1.12 in /usr/local/lib/python3.11/dist-packages (from nbclient>=0.5.0->nbconvert>=6.0.0->nbconvert[webpdf]>=6.0.0; sys_platform != \"emscripten\" and sys_platform != \"wasi\"->otter-grader) (6.1.12)\n",
            "Requirement already satisfied: ptyprocess>=0.5 in /usr/local/lib/python3.11/dist-packages (from pexpect>4.3->ipython->otter-grader) (0.7.0)\n",
            "Requirement already satisfied: wcwidth in /usr/local/lib/python3.11/dist-packages (from prompt-toolkit!=3.0.0,!=3.0.1,<3.1.0,>=2.0.0->ipython->otter-grader) (0.2.13)\n",
            "Requirement already satisfied: annotated-types>=0.6.0 in /usr/local/lib/python3.11/dist-packages (from pydantic!=2.0.*,<3,>=2->python-on-whales<1.0.0,>=0.72.0->otter-grader) (0.7.0)\n",
            "Requirement already satisfied: pydantic-core==2.27.2 in /usr/local/lib/python3.11/dist-packages (from pydantic!=2.0.*,<3,>=2->python-on-whales<1.0.0,>=0.72.0->otter-grader) (2.27.2)\n",
            "Requirement already satisfied: six>=1.5 in /usr/local/lib/python3.11/dist-packages (from python-dateutil>=2.8.2->pandas>=2.0.0->otter-grader) (1.17.0)\n",
            "Requirement already satisfied: soupsieve>1.2 in /usr/local/lib/python3.11/dist-packages (from beautifulsoup4->nbconvert>=6.0.0->nbconvert[webpdf]>=6.0.0; sys_platform != \"emscripten\" and sys_platform != \"wasi\"->otter-grader) (2.6)\n",
            "Requirement already satisfied: pyee<13,>=12 in /usr/local/lib/python3.11/dist-packages (from playwright->nbconvert[webpdf]>=6.0.0; sys_platform != \"emscripten\" and sys_platform != \"wasi\"->otter-grader) (12.1.1)\n",
            "Requirement already satisfied: greenlet<4.0.0,>=3.1.1 in /usr/local/lib/python3.11/dist-packages (from playwright->nbconvert[webpdf]>=6.0.0; sys_platform != \"emscripten\" and sys_platform != \"wasi\"->otter-grader) (3.1.1)\n",
            "Requirement already satisfied: sphinxcontrib-applehelp>=1.0.7 in /usr/local/lib/python3.11/dist-packages (from sphinx->fica>=0.4.1->otter-grader) (2.0.0)\n",
            "Requirement already satisfied: sphinxcontrib-devhelp>=1.0.6 in /usr/local/lib/python3.11/dist-packages (from sphinx->fica>=0.4.1->otter-grader) (2.0.0)\n",
            "Requirement already satisfied: sphinxcontrib-htmlhelp>=2.0.6 in /usr/local/lib/python3.11/dist-packages (from sphinx->fica>=0.4.1->otter-grader) (2.1.0)\n",
            "Requirement already satisfied: sphinxcontrib-jsmath>=1.0.1 in /usr/local/lib/python3.11/dist-packages (from sphinx->fica>=0.4.1->otter-grader) (1.0.1)\n",
            "Requirement already satisfied: sphinxcontrib-qthelp>=1.0.6 in /usr/local/lib/python3.11/dist-packages (from sphinx->fica>=0.4.1->otter-grader) (2.0.0)\n",
            "Requirement already satisfied: sphinxcontrib-serializinghtml>=1.1.9 in /usr/local/lib/python3.11/dist-packages (from sphinx->fica>=0.4.1->otter-grader) (2.0.0)\n",
            "Requirement already satisfied: snowballstemmer>=2.2 in /usr/local/lib/python3.11/dist-packages (from sphinx->fica>=0.4.1->otter-grader) (2.2.0)\n",
            "Requirement already satisfied: babel>=2.13 in /usr/local/lib/python3.11/dist-packages (from sphinx->fica>=0.4.1->otter-grader) (2.17.0)\n",
            "Requirement already satisfied: alabaster>=0.7.14 in /usr/local/lib/python3.11/dist-packages (from sphinx->fica>=0.4.1->otter-grader) (1.0.0)\n",
            "Requirement already satisfied: imagesize>=1.3 in /usr/local/lib/python3.11/dist-packages (from sphinx->fica>=0.4.1->otter-grader) (1.4.1)\n",
            "Requirement already satisfied: roman-numerals-py>=1.0.0 in /usr/local/lib/python3.11/dist-packages (from sphinx->fica>=0.4.1->otter-grader) (3.1.0)\n",
            "Requirement already satisfied: pyzmq>=13 in /usr/local/lib/python3.11/dist-packages (from jupyter-client>=6.1.12->nbclient>=0.5.0->nbconvert>=6.0.0->nbconvert[webpdf]>=6.0.0; sys_platform != \"emscripten\" and sys_platform != \"wasi\"->otter-grader) (24.0.1)\n",
            "Requirement already satisfied: tornado>=4.1 in /usr/local/lib/python3.11/dist-packages (from jupyter-client>=6.1.12->nbclient>=0.5.0->nbconvert>=6.0.0->nbconvert[webpdf]>=6.0.0; sys_platform != \"emscripten\" and sys_platform != \"wasi\"->otter-grader) (6.4.2)\n"
          ]
        }
      ]
    },
    {
      "cell_type": "markdown",
      "metadata": {
        "deletable": false,
        "editable": false,
        "id": "irmiWKbEPWvx"
      },
      "source": [
        "<!-- BEGIN QUESTION -->\n",
        "\n",
        "**Question 1:**\n",
        "Write a Python function to return a tuple of even and odd numbers\n",
        "\n",
        "1.   List item\n",
        "2.   List item\n",
        "\n",
        "given an integer input.</br>\n",
        "Example: For input 10, the output should be ([2, 4, 6, 8, 10], [1, 3, 5, 7, 9])."
      ]
    },
    {
      "cell_type": "code",
      "execution_count": null,
      "metadata": {
        "tags": [],
        "colab": {
          "base_uri": "https://localhost:8080/"
        },
        "id": "cBxI4y_RPWvy",
        "outputId": "f201c392-eefd-4098-d704-0c9ab559ade6"
      },
      "outputs": [
        {
          "output_type": "stream",
          "name": "stdout",
          "text": [
            "([2, 4, 6, 8, 10], [1, 3, 5, 7, 9])\n"
          ]
        }
      ],
      "source": [
        "def even_odd_numbers(n):\n",
        "    \"\"\"\n",
        "    Returns a tuple of even and odd numbers up to n.\n",
        "\n",
        "    Args:\n",
        "        n (int): The upper limit.\n",
        "\n",
        "    Returns:\n",
        "        tuple: A tuple of two lists: (evens, odds).\n",
        "    \"\"\"\n",
        "    evens = [i for i in range(1, n + 1) if i % 2 == 0]\n",
        "    odds = [i for i in range(1, n + 1) if i % 2 != 0]\n",
        "\n",
        "    \"\"\"\n",
        "    Returns a tuple containing a list of even numbers and a list of odd numbers up to n (inclusive).\n",
        "    \"\"\"\n",
        "    return (evens, odds)\n",
        "# Example usage:\n",
        "print(even_odd_numbers(10))\n",
        "\n"
      ]
    },
    {
      "cell_type": "code",
      "execution_count": null,
      "metadata": {
        "deletable": false,
        "editable": false,
        "id": "wGEcrmcOPWvy"
      },
      "outputs": [],
      "source": [
        "grader.check(\"q1\")"
      ]
    },
    {
      "cell_type": "markdown",
      "metadata": {
        "deletable": false,
        "editable": false,
        "id": "MR4Mo0kSPWvz"
      },
      "source": [
        "<!-- END QUESTION -->\n",
        "\n",
        "<!-- BEGIN QUESTION -->\n",
        "\n",
        "**Question 2: Create a dictionary to store the frequency of each word in the paragraph provided.**</br>\n",
        "Example: For the paragraph \"Data science is fun. Data science is useful.\", the output should be {'Data': 2, 'science': 2, 'is': 2, 'fun': 1, 'useful': 1}."
      ]
    },
    {
      "cell_type": "code",
      "execution_count": null,
      "metadata": {
        "deletable": false,
        "editable": false,
        "id": "tga_a4gRPWv0"
      },
      "outputs": [],
      "source": [
        "grader.check(\"q2\")"
      ]
    },
    {
      "cell_type": "markdown",
      "metadata": {
        "deletable": false,
        "editable": false,
        "id": "qHM88oCmPWv1"
      },
      "source": [
        "<!-- END QUESTION -->\n",
        "\n",
        "<!-- BEGIN QUESTION -->\n",
        "\n",
        "**Question 3: Extract the values from the dictionary above into a list and sort them in descending order.**</br>\n",
        "Example: For the dictionary {'a': 3, 'b': 1, 'c': 2}, the output should be [3, 2, 1]"
      ]
    },
    {
      "source": [
        "def extract_and_sort_values(dictionary):\n",
        "    \"\"\"\n",
        "    Extracts and sorts dictionary values in descending order.\n",
        "\n",
        "    Args:\n",
        "        dictionary (dict): The input dictionary.\n",
        "\n",
        "    Returns:\n",
        "        list: A list of sorted values in descending order.\n",
        "    \"\"\"\n",
        "    value_list = [num for num in dictionary.values()]\n",
        "    sorted_list = sorted(value_list, reverse=True)\n",
        "    return sorted_list\n",
        "\n",
        "    # Example dictionary\n",
        "example_dict = {'a': 3, 'b': 1, 'c': 2}\n",
        "\n",
        "# Expected output: [3, 2, 1]\n",
        "print(extract_and_sort_values(example_dict))\n",
        "\n"
      ],
      "cell_type": "code",
      "metadata": {
        "colab": {
          "base_uri": "https://localhost:8080/"
        },
        "id": "ax-lS5KFXXXm",
        "outputId": "415b198b-f3d5-42db-e897-ca06d74a279c"
      },
      "execution_count": null,
      "outputs": [
        {
          "output_type": "stream",
          "name": "stdout",
          "text": [
            "[3, 2, 1]\n"
          ]
        }
      ]
    },
    {
      "cell_type": "code",
      "execution_count": null,
      "metadata": {
        "deletable": false,
        "editable": false,
        "id": "dIeu6gktPWv1"
      },
      "outputs": [],
      "source": [
        "grader.check(\"q3\")"
      ]
    },
    {
      "cell_type": "markdown",
      "metadata": {
        "deletable": false,
        "editable": false,
        "id": "wNWEPHhwPWv2"
      },
      "source": [
        "<!-- END QUESTION -->\n",
        "\n",
        "<!-- BEGIN QUESTION -->\n",
        "\n",
        "**Question 4: Merge the two lists (from Questions 3 and 4) into a dictionary where the keys are the sorted keys and the values are the sorted values.**</br>\n",
        "Example: For lists ['a', 'b', 'c'] and [3, 2, 1], the output should be {'a': 3, 'b': 2, 'c': 1}"
      ]
    },
    {
      "source": [
        "def merge_lists_to_dict(dictionary):  # Changed to accept a dictionary\n",
        "    \"\"\"\n",
        "    Merges dictionary keys and sorted values into a new dictionary.\n",
        "\n",
        "    Args:\n",
        "        dictionary (dict): The input dictionary.\n",
        "\n",
        "    Returns:\n",
        "        dict: A dictionary with sorted keys and values paired.\n",
        "    \"\"\"\n",
        "    keys = sorted(dictionary.keys())\n",
        "    values = sorted(dictionary.values(), reverse=True)\n",
        "    return dict(zip(keys, values))\n",
        "\n",
        "# Example usage:\n",
        "print(merge_lists_to_dict(example_dict))  # Call with the dictionary"
      ],
      "cell_type": "code",
      "metadata": {
        "colab": {
          "base_uri": "https://localhost:8080/"
        },
        "id": "BJWEgpvLZFQZ",
        "outputId": "3805a61b-1fc6-43f6-ad0e-19a97d8877d8"
      },
      "execution_count": null,
      "outputs": [
        {
          "output_type": "stream",
          "name": "stdout",
          "text": [
            "{'a': 3, 'b': 2, 'c': 1}\n"
          ]
        }
      ]
    },
    {
      "cell_type": "code",
      "execution_count": null,
      "metadata": {
        "deletable": false,
        "editable": false,
        "id": "FdKNzdtrPWv2"
      },
      "outputs": [],
      "source": [
        "grader.check(\"q4\")"
      ]
    },
    {
      "cell_type": "markdown",
      "metadata": {
        "deletable": false,
        "editable": false,
        "id": "6MMg_w8qPWv2"
      },
      "source": [
        "<!-- END QUESTION -->\n",
        "\n",
        "<!-- BEGIN QUESTION -->\n",
        "\n",
        "**Question 5:Write a function least_common_multiple that takes two inputs a and b and returns the least common multiple of the two numbers.**</br>\n",
        "Example: For input (4, 6), the output should be 12"
      ]
    },
    {
      "cell_type": "code",
      "execution_count": null,
      "metadata": {
        "tags": [],
        "id": "uYOB3f8FPWv3"
      },
      "outputs": [],
      "source": [
        "def least_common_multiple(a, b):\n",
        "    \"\"\"\n",
        "    Returns the least common multiple of two numbers.\n",
        "\n",
        "    Args:\n",
        "        a (int): First number.\n",
        "        b (int): Second number.\n",
        "\n",
        "    Returns:\n",
        "        int: The LCM of a and b.\n",
        "    \"\"\"\n",
        "    multiple = a * b\n",
        "    # Use the greatest common divisor function from the maths module\n",
        "    greatest_common_divisor = math.gcd(a,b)\n",
        "\n",
        "    # Using floor division in order to get a integer output\n",
        "    lcm = multiple // greatest_common_divisor\n",
        "    return lcm\n",
        "\n"
      ]
    },
    {
      "cell_type": "code",
      "execution_count": null,
      "metadata": {
        "deletable": false,
        "editable": false,
        "id": "ys_9EMecPWv3"
      },
      "outputs": [],
      "source": [
        "grader.check(\"q5\")"
      ]
    },
    {
      "cell_type": "markdown",
      "metadata": {
        "deletable": false,
        "editable": false,
        "id": "TIn7ob8IPWv3"
      },
      "source": [
        "<!-- END QUESTION -->\n",
        "\n",
        "<!-- BEGIN QUESTION -->\n",
        "\n",
        "**Question 6:Write a function get_nearest_farthest that takes in a point of interest (x, y) and a list of points [(x1, y1), (x2, y2), ...] and returns the indices of the nearest and farthest points from the point of interest.** </br>\n",
        "Example: For pt = (0, 0) and points = [(1, 1), (3, 3), (-1, -1)], the output should be (0, 1)"
      ]
    },
    {
      "cell_type": "code",
      "execution_count": null,
      "metadata": {
        "tags": [],
        "id": "iRHDgMS6PWv3"
      },
      "outputs": [],
      "source": [
        "def get_nearest_farthest(pt, points):\n",
        "\n",
        "    \"\"\"\n",
        "    Returns the indices of the nearest and farthest points from a point of interest.\n",
        "\n",
        "    Args:\n",
        "        pt (tuple): The point of interest (x, y).\n",
        "        points (list): List of points [(x1, y1), (x2, y2), ...].\n",
        "\n",
        "    Returns:\n",
        "        tuple: Indices of the nearest and farthest points.\n",
        "    \"\"\"\n",
        "    distances = []\n",
        "    for point in points:\n",
        "        dist = abs(np.array(pt) - np.array(point))\n",
        "        dist_magnitude = np.sum(dist)\n",
        "        distances.append(dist_magnitude)\n",
        "\n",
        "    nearest_point = min(distances)\n",
        "    farthest_point = max(distances)\n",
        "\n",
        "    return (distances.index(nearest_point), distances.index(farthest_point))\n"
      ]
    },
    {
      "cell_type": "code",
      "execution_count": null,
      "metadata": {
        "deletable": false,
        "editable": false,
        "id": "poU3IslmPWv3"
      },
      "outputs": [],
      "source": [
        "grader.check(\"q6\")"
      ]
    },
    {
      "cell_type": "markdown",
      "metadata": {
        "deletable": false,
        "editable": false,
        "id": "C2gxWsy3PWv3"
      },
      "source": [
        "<!-- END QUESTION -->\n",
        "\n",
        "<!-- BEGIN QUESTION -->\n",
        "\n",
        "**Question 7:Write a function filter_divisible to return a list of numbers between 0 and a number N that are not perfectly divisible by q.** </br>\n",
        "\n",
        "> Hint: If N is negative, use N = 20.\n",
        "\n",
        "Example: For N = 10 and q = 2, the output should be [1, 3, 5, 7, 9]"
      ]
    },
    {
      "cell_type": "code",
      "execution_count": null,
      "metadata": {
        "tags": [],
        "id": "V37UbAczPWv4"
      },
      "outputs": [],
      "source": [
        "def filter_divisible(N, q):\n",
        "    \"\"\"\n",
        "    Returns a list of numbers between 0 and N that are not divisible by q.\n",
        "\n",
        "    Args:\n",
        "        N (int): The upper limit.\n",
        "        q (int): The divisor.\n",
        "\n",
        "    Returns:\n",
        "        list: A list of non-divisible numbers.\n",
        "    \"\"\"\n",
        "    non_divisible_nums = []\n",
        "    for i in range(N+1):\n",
        "        if i % q != 0:\n",
        "            non_divisible_nums.append(i)\n",
        "\n",
        "    return non_divisible_nums"
      ]
    },
    {
      "cell_type": "code",
      "execution_count": null,
      "metadata": {
        "deletable": false,
        "editable": false,
        "id": "lATRDnu1PWv4"
      },
      "outputs": [],
      "source": [
        "grader.check(\"q7\")"
      ]
    },
    {
      "cell_type": "markdown",
      "metadata": {
        "deletable": false,
        "editable": false,
        "id": "RM1HlwluPWv4"
      },
      "source": [
        "<!-- END QUESTION -->\n",
        "\n",
        "<!-- BEGIN QUESTION -->\n",
        "\n",
        "**Question 8: Write a function flatten_and_unique that takes in a list of lists and outputs a sorted list of unique elements from all sublists.**"
      ]
    },
    {
      "cell_type": "code",
      "execution_count": null,
      "metadata": {
        "tags": [],
        "id": "q2P8vrzFPWv4"
      },
      "outputs": [],
      "source": [
        "def flatten_and_unique(list_of_lists):\n",
        "    \"\"\"\n",
        "    Flattens a list of lists and returns a sorted list of unique elements.\n",
        "\n",
        "    Args:\n",
        "        list_of_lists (list): A list of lists.\n",
        "\n",
        "    Returns:\n",
        "        list: A sorted list of unique elements.\n",
        "    \"\"\"\n",
        "    all_elements = []\n",
        "    for sublist in list_of_lists:\n",
        "        for element in sublist:\n",
        "            all_elements.append(element)\n",
        "    unique_elements = set(all_elements)\n",
        "    unique_list = list(unique_elements)\n",
        "    return sorted(unique_list)"
      ]
    },
    {
      "cell_type": "code",
      "execution_count": null,
      "metadata": {
        "deletable": false,
        "editable": false,
        "id": "0M0JcpJkPWv4"
      },
      "outputs": [],
      "source": [
        "grader.check(\"q8\")"
      ]
    },
    {
      "cell_type": "markdown",
      "metadata": {
        "deletable": false,
        "editable": false,
        "id": "vM-7CEGdPWv5"
      },
      "source": [
        "<!-- END QUESTION -->\n",
        "\n",
        "**The Extra Mile!**\n"
      ]
    },
    {
      "cell_type": "markdown",
      "metadata": {
        "id": "-Slghh8FPWv5"
      },
      "source": [
        "Download the dataset Nigeria Food Prices (9.9M)\n",
        "\n",
        "> https://data.humdata.org/dataset/wfp-food-prices-for-nigeria\n",
        "\n",
        "\n",
        "\n"
      ]
    },
    {
      "cell_type": "markdown",
      "metadata": {
        "deletable": false,
        "editable": false,
        "id": "JDBnLu29PWv6"
      },
      "source": [
        "<!-- BEGIN QUESTION -->\n",
        "\n",
        "**Question 9: Create a new column date_new from the date column, converting it to a datetime format.**"
      ]
    },
    {
      "cell_type": "code",
      "execution_count": null,
      "metadata": {
        "tags": [],
        "colab": {
          "base_uri": "https://localhost:8080/"
        },
        "id": "wboNrnDpPWv6",
        "outputId": "67b2f82f-e022-40df-a46e-7246f1200cc6"
      },
      "outputs": [
        {
          "output_type": "stream",
          "name": "stdout",
          "text": [
            "First 5 rows of the dataset:\n",
            "         date   admin1 admin2        market  latitude  longitude  \\\n",
            "0  2002-01-15  Katsina  Jibia   Jibia (CBM)    13.080      7.240   \n",
            "1  2002-01-15  Katsina  Jibia   Jibia (CBM)    13.080      7.240   \n",
            "2  2002-01-15  Katsina  Jibia   Jibia (CBM)    13.080      7.240   \n",
            "3  2002-01-15  Katsina  Jibia   Jibia (CBM)    13.080      7.240   \n",
            "4  2002-01-15   Sokoto   Gada  Illela (CBM)    13.645      5.278   \n",
            "\n",
            "             category      commodity unit priceflag  pricetype currency  \\\n",
            "0  cereals and tubers          Maize   KG    actual  Wholesale      NGN   \n",
            "1  cereals and tubers         Millet   KG    actual  Wholesale      NGN   \n",
            "2  cereals and tubers        Sorghum   KG    actual  Wholesale      NGN   \n",
            "3     pulses and nuts  Beans (niebe)   KG    actual  Wholesale      NGN   \n",
            "4  cereals and tubers          Maize   KG    actual  Wholesale      NGN   \n",
            "\n",
            "    price  usdprice  \n",
            "0  175.92    1.5398  \n",
            "1  150.18    1.3145  \n",
            "2  155.61    1.3620  \n",
            "3  196.87    1.7231  \n",
            "4  153.35    1.3422  \n"
          ]
        }
      ],
      "source": [
        "import pandas as pd\n",
        "\n",
        "# Load the dataset\n",
        "file_path = '/content/wfp_food_prices_nga.csv'  # Replace with the actual file path\n",
        "df = pd.read_csv(file_path,skiprows=[1])\n",
        "df = df.drop(index=2)\n",
        "df = df.reset_index(drop=True)\n",
        "\n",
        "# Display the first few rows of the dataset\n",
        "print(\"First 5 rows of the dataset:\")\n",
        "print(df.head())\n",
        "\n"
      ]
    },
    {
      "cell_type": "code",
      "execution_count": null,
      "metadata": {
        "tags": [],
        "id": "vcO3WK7QPWv6"
      },
      "outputs": [],
      "source": [
        "def create_date_new(df):\n",
        "    \"\"\"\n",
        "    Creates a new column `date_new` from the `date` column, converting it to a datetime format.\n",
        "\n",
        "    Args:\n",
        "        df (pd.DataFrame): The input dataframe.\n",
        "\n",
        "    Returns:\n",
        "        pd.DataFrame: The dataframe with the new `date_new` column.\n",
        "    \"\"\"\n",
        "    df['date_new'] = pd.to_datetime(df[\"date\"])\n",
        "\n",
        "    return df"
      ]
    },
    {
      "cell_type": "code",
      "execution_count": null,
      "metadata": {
        "deletable": false,
        "editable": false,
        "id": "F0ul3_JhPWv8"
      },
      "outputs": [],
      "source": [
        "grader.check(\"q9\")"
      ]
    },
    {
      "cell_type": "markdown",
      "metadata": {
        "deletable": false,
        "editable": false,
        "id": "P8QwOlDJPWv8"
      },
      "source": [
        "<!-- END QUESTION -->\n",
        "\n",
        "<!-- BEGIN QUESTION -->\n",
        "\n",
        "**Question 10:Split the dataframe into two separate dataframes based on the category column: one for cereals and tubers and another for pulses and nuts**"
      ]
    },
    {
      "cell_type": "code",
      "execution_count": null,
      "metadata": {
        "tags": [],
        "id": "cW_DKDCUPWv8"
      },
      "outputs": [],
      "source": [
        "def split_dataframes(df):\n",
        "    \"\"\"\n",
        "    Splits the dataframe into two separate dataframes based on the `category` column.\n",
        "\n",
        "    Args:\n",
        "        df (pd.DataFrame): The input dataframe.\n",
        "\n",
        "    Returns:\n",
        "        tuple: A tuple of two dataframes: (cereals_df, pulses_df).\n",
        "    \"\"\"\n",
        "    cereals_df = df[df.category == \"cereals and tubers\"]\n",
        "    pulses_df = df[df.category == \"pulses and nuts\"]\n",
        "\n",
        "    return (cereals_df, pulses_df)"
      ]
    },
    {
      "cell_type": "code",
      "execution_count": null,
      "metadata": {
        "deletable": false,
        "editable": false,
        "id": "c9mBeU0jPWv9"
      },
      "outputs": [],
      "source": [
        "grader.check(\"q10\")"
      ]
    },
    {
      "cell_type": "markdown",
      "metadata": {
        "deletable": false,
        "editable": false,
        "id": "w-RCeblnPWv9"
      },
      "source": [
        "<!-- END QUESTION -->\n",
        "\n",
        "<!-- BEGIN QUESTION -->\n",
        "\n",
        "**Question 11:Calculate the mean, median, and mode of the price and usdprice columns for each category**"
      ]
    },
    {
      "cell_type": "code",
      "execution_count": null,
      "metadata": {
        "tags": [],
        "id": "FAgyIpRgPWv9"
      },
      "outputs": [],
      "source": [
        "def calculate_price_stats(df):\n",
        "    \"\"\"\n",
        "    Calculates the mean, median, and mode of the `price` and `usdprice` columns for each `category`.\n",
        "\n",
        "    Args:\n",
        "        df (pd.DataFrame): The input dataframe.\n",
        "\n",
        "    Returns:\n",
        "        tuple: A tuple of two dataframes: (price_stats, usdprice_stats).\n",
        "\n",
        "    \"\"\"\n",
        "\n",
        "    price_stats = pd.DataFrame(data = {\"mean\" : df[\"price\"].mean(), \"median\":df[\"price\"].median(), \"mode\":df[\"price\"].mode()})\n",
        "    usdprice_stats = pd.DataFrame(data = {\"mean\" : df[\"usdprice\"].mean(), \"median\":df[\"usdprice\"].median(), \"mode\":df[\"usdprice\"].mode()})\n",
        "    return (price_stats, usdprice_stats)"
      ]
    },
    {
      "cell_type": "code",
      "execution_count": null,
      "metadata": {
        "deletable": false,
        "editable": false,
        "id": "7QqPcIU7PWv9"
      },
      "outputs": [],
      "source": [
        "grader.check(\"q11\")"
      ]
    },
    {
      "cell_type": "markdown",
      "metadata": {
        "deletable": false,
        "editable": false,
        "id": "iI5WP_FePWv-"
      },
      "source": [
        "<!-- END QUESTION -->\n",
        "\n",
        "<!-- BEGIN QUESTION -->\n",
        "\n",
        "**Question 12:Merge the two dataframes (from Question 11) back into one dataframe and save it as `merged_data.csv`.**"
      ]
    },
    {
      "cell_type": "code",
      "execution_count": null,
      "metadata": {
        "tags": [],
        "id": "BL2QCmbPPWv_"
      },
      "outputs": [],
      "source": [
        "def merge_dataframes(cereals_df, pulses_df):\n",
        "    \"\"\"\n",
        "    Merges the two dataframes back into one dataframe and saves it as `merged_data.csv`.\n",
        "\n",
        "    Args:\n",
        "        cereals_df (pd.DataFrame): The cereals and tubers dataframe.\n",
        "        pulses_df (pd.DataFrame): The pulses and nuts dataframe.\n",
        "\n",
        "    Returns:\n",
        "        pd.DataFrame: The merged dataframe.\n",
        "    \"\"\"\n",
        "    merged_df = pd.concat([cereals_df, pulses_df])\n",
        "    return merged_df.reset_index(drop=True)"
      ]
    },
    {
      "cell_type": "code",
      "execution_count": null,
      "metadata": {
        "deletable": false,
        "editable": false,
        "id": "Vq6v5HT3PWv_"
      },
      "outputs": [],
      "source": [
        "grader.check(\"q12\")"
      ]
    },
    {
      "cell_type": "markdown",
      "metadata": {
        "deletable": false,
        "editable": false,
        "id": "_iQvru3LPWv_"
      },
      "source": [
        "<!-- END QUESTION -->\n",
        "\n",
        "<!-- BEGIN QUESTION -->\n",
        "\n",
        "**Question 13:Open the `merged_data.csv` file and select only the `date_new`, `market`, `commodity`, `price`, and `usdprice` columns**"
      ]
    },
    {
      "cell_type": "code",
      "execution_count": null,
      "metadata": {
        "tags": [],
        "id": "LVYNkH4cPWv_"
      },
      "outputs": [],
      "source": [
        "def select_columns():\n",
        "    \"\"\"\n",
        "    Opens the `merged_data.csv` file and selects only the `date_new`, `market`, `commodity`, `price`, and `usdprice` columns.\n",
        "\n",
        "    Returns:\n",
        "        pd.DataFrame: The dataframe with selected columns.\n",
        "    \"\"\"\n",
        "    data = pd.read_csv('merged_data.csv', usecols=[\"date_new\", \"market\", \"commodity\", \"price\", \"usdprice\"])\n",
        "\n",
        "    return data"
      ]
    },
    {
      "cell_type": "code",
      "execution_count": null,
      "metadata": {
        "deletable": false,
        "editable": false,
        "id": "qJMKJWOSPWv_"
      },
      "outputs": [],
      "source": [
        "grader.check(\"q13\")"
      ]
    },
    {
      "cell_type": "markdown",
      "metadata": {
        "deletable": false,
        "editable": false,
        "id": "WuCXV2QhPWv_"
      },
      "source": [
        "<!-- END QUESTION -->\n",
        "\n",
        "<!-- BEGIN QUESTION -->\n",
        "\n",
        "**Question 14:Group the data by `admin1` (state) and calculate the average `price` and `usdprice` for each state**"
      ]
    },
    {
      "cell_type": "code",
      "execution_count": null,
      "metadata": {
        "tags": [],
        "id": "wESycTG1PWv_"
      },
      "outputs": [],
      "source": [
        "def calculate_state_avg_prices(df):\n",
        "    \"\"\"\n",
        "    Groups the data by `admin1` (state) and calculates the average `price` and `usdprice` for each state.\n",
        "\n",
        "    Args:\n",
        "        df (pd.DataFrame): The input dataframe.\n",
        "\n",
        "    Returns:\n",
        "        pd.DataFrame: The dataframe with average prices by state.\n",
        "    \"\"\"\n",
        "    grouped_by_state = df.groupby(\"admin1\")[[\"price\", \"usdprice\"]].mean()\n",
        "\n",
        "    return grouped_by_state"
      ]
    },
    {
      "cell_type": "code",
      "execution_count": null,
      "metadata": {
        "deletable": false,
        "editable": false,
        "id": "HC05ns4JPWv_"
      },
      "outputs": [],
      "source": [
        "grader.check(\"q14\")"
      ]
    },
    {
      "cell_type": "markdown",
      "metadata": {
        "deletable": false,
        "editable": false,
        "id": "RxZ8LEtEPWwA"
      },
      "source": [
        "<!-- END QUESTION -->\n",
        "\n",
        "<!-- BEGIN QUESTION -->\n",
        "\n",
        "**Question 15:Identify the top 5 markets with the highest average `usdprice` for `Rice (imported)`.**"
      ]
    },
    {
      "cell_type": "code",
      "execution_count": null,
      "metadata": {
        "tags": [],
        "id": "hCATrUDmPWwA"
      },
      "outputs": [],
      "source": [
        "def identify_top_markets(df):\n",
        "    \"\"\"\n",
        "    Identifies the top 5 markets with the highest average `usdprice` for `Rice (imported)`.\n",
        "\n",
        "    Args:\n",
        "        df (pd.DataFrame): The input dataframe.\n",
        "\n",
        "    Returns:\n",
        "        pd.Series: A series with the top 5 markets and their average `usdprice`.\n",
        "    \"\"\"\n",
        "    rice = df[df.commodity == \"Rice (imported)\"]\n",
        "    grouped_df = rice.groupby(by=\"market\")[\"usdprice\"].mean().sort_values(ascending=False)\n",
        "    top_5_markets = grouped_df.head(5)\n",
        "    return top_5_markets"
      ]
    },
    {
      "cell_type": "code",
      "execution_count": null,
      "metadata": {
        "deletable": false,
        "editable": false,
        "id": "xqYQ3hXKPWwA"
      },
      "outputs": [],
      "source": [
        "grader.check(\"q15\")"
      ]
    },
    {
      "cell_type": "markdown",
      "metadata": {
        "deletable": false,
        "editable": false,
        "id": "fRqnkh6ZPWwA"
      },
      "source": [
        "<!-- END QUESTION -->\n",
        "\n"
      ]
    },
    {
      "cell_type": "markdown",
      "metadata": {
        "deletable": false,
        "editable": false,
        "id": "v0JyJtmBPWwA"
      },
      "source": [
        "---\n",
        "\n",
        "To double-check your work, the cell below will rerun all of the autograder tests."
      ]
    },
    {
      "cell_type": "code",
      "execution_count": null,
      "metadata": {
        "deletable": false,
        "editable": false,
        "id": "kQRKFsd7PWwA"
      },
      "outputs": [],
      "source": [
        "grader.check_all()"
      ]
    },
    {
      "cell_type": "markdown",
      "metadata": {
        "deletable": false,
        "editable": false,
        "id": "LYhXsN9uPWwA"
      },
      "source": [
        "## Submission\n",
        "\n",
        "Make sure you have run all cells in your notebook in order before running the cell below, so that all images/graphs appear in the output. The cell below will generate a zip file for you to submit. **Please save before exporting!**\n",
        "\n",
        "Complete each function according to the provided specifications. Make sure all tests pass."
      ]
    },
    {
      "cell_type": "code",
      "execution_count": null,
      "metadata": {
        "deletable": false,
        "editable": false,
        "colab": {
          "base_uri": "https://localhost:8080/",
          "height": 339
        },
        "id": "m1FN4AWtPWwA",
        "outputId": "09f1d255-1ed7-4516-94ff-2e4e9cf26d9c"
      },
      "outputs": [
        {
          "output_type": "error",
          "ename": "RuntimeError",
          "evalue": "This method is not compatible with Google Colab",
          "traceback": [
            "\u001b[0;31m---------------------------------------------------------------------------\u001b[0m",
            "\u001b[0;31mRuntimeError\u001b[0m                              Traceback (most recent call last)",
            "\u001b[0;32m<ipython-input-49-be3b5bae4dea>\u001b[0m in \u001b[0;36m<cell line: 0>\u001b[0;34m()\u001b[0m\n\u001b[1;32m      1\u001b[0m \u001b[0;31m# Save your notebook first, then run this cell to export your submission.\u001b[0m\u001b[0;34m\u001b[0m\u001b[0;34m\u001b[0m\u001b[0m\n\u001b[0;32m----> 2\u001b[0;31m \u001b[0mgrader\u001b[0m\u001b[0;34m.\u001b[0m\u001b[0mexport\u001b[0m\u001b[0;34m(\u001b[0m\u001b[0mrun_tests\u001b[0m\u001b[0;34m=\u001b[0m\u001b[0;32mTrue\u001b[0m\u001b[0;34m)\u001b[0m\u001b[0;34m\u001b[0m\u001b[0;34m\u001b[0m\u001b[0m\n\u001b[0m",
            "\u001b[0;32m/usr/local/lib/python3.11/dist-packages/otter/check/utils.py\u001b[0m in \u001b[0;36mgrading_mode_disabled\u001b[0;34m(wrapped, self, args, kwargs)\u001b[0m\n\u001b[1;32m    204\u001b[0m     \u001b[0;32mif\u001b[0m \u001b[0mtype\u001b[0m\u001b[0;34m(\u001b[0m\u001b[0mself\u001b[0m\u001b[0;34m)\u001b[0m\u001b[0;34m.\u001b[0m\u001b[0m_grading_mode\u001b[0m\u001b[0;34m:\u001b[0m\u001b[0;34m\u001b[0m\u001b[0;34m\u001b[0m\u001b[0m\n\u001b[1;32m    205\u001b[0m         \u001b[0;32mreturn\u001b[0m\u001b[0;34m\u001b[0m\u001b[0;34m\u001b[0m\u001b[0m\n\u001b[0;32m--> 206\u001b[0;31m     \u001b[0;32mreturn\u001b[0m \u001b[0mwrapped\u001b[0m\u001b[0;34m(\u001b[0m\u001b[0;34m*\u001b[0m\u001b[0margs\u001b[0m\u001b[0;34m,\u001b[0m \u001b[0;34m**\u001b[0m\u001b[0mkwargs\u001b[0m\u001b[0;34m)\u001b[0m\u001b[0;34m\u001b[0m\u001b[0;34m\u001b[0m\u001b[0m\n\u001b[0m\u001b[1;32m    207\u001b[0m \u001b[0;34m\u001b[0m\u001b[0m\n\u001b[1;32m    208\u001b[0m \u001b[0;34m\u001b[0m\u001b[0m\n",
            "\u001b[0;32m/usr/local/lib/python3.11/dist-packages/otter/check/utils.py\u001b[0m in \u001b[0;36mincompatible\u001b[0;34m(wrapped, self, args, kwargs)\u001b[0m\n\u001b[1;32m    181\u001b[0m         \u001b[0;32mif\u001b[0m \u001b[0mself\u001b[0m\u001b[0;34m.\u001b[0m\u001b[0minterpreter\u001b[0m \u001b[0;32mis\u001b[0m \u001b[0minterpreter\u001b[0m\u001b[0;34m:\u001b[0m\u001b[0;34m\u001b[0m\u001b[0;34m\u001b[0m\u001b[0m\n\u001b[1;32m    182\u001b[0m             \u001b[0;32mif\u001b[0m \u001b[0mthrow_error\u001b[0m\u001b[0;34m:\u001b[0m\u001b[0;34m\u001b[0m\u001b[0;34m\u001b[0m\u001b[0m\n\u001b[0;32m--> 183\u001b[0;31m                 raise RuntimeError(\n\u001b[0m\u001b[1;32m    184\u001b[0m                     \u001b[0;34mf\"This method is not compatible with {interpreter.value.display_name}\"\u001b[0m\u001b[0;34m\u001b[0m\u001b[0;34m\u001b[0m\u001b[0m\n\u001b[1;32m    185\u001b[0m                 )\n",
            "\u001b[0;31mRuntimeError\u001b[0m: This method is not compatible with Google Colab"
          ]
        }
      ],
      "source": [
        "# Save your notebook first, then run this cell to export your submission.\n",
        "grader.export(run_tests=True)"
      ]
    },
    {
      "cell_type": "markdown",
      "metadata": {
        "id": "yaBUgvgEPWwA"
      },
      "source": []
    }
  ],
  "metadata": {
    "kernelspec": {
      "display_name": "Python 3",
      "language": "python",
      "name": "python3"
    },
    "language_info": {
      "codemirror_mode": {
        "name": "ipython",
        "version": 3
      },
      "file_extension": ".py",
      "mimetype": "text/x-python",
      "name": "python",
      "nbconvert_exporter": "python",
      "pygments_lexer": "ipython3",
      "version": "3.10.12"
    },
    "otter": {
      "OK_FORMAT": true,
      "export_pdf_failure_message": "A PDF of your notebook could not be generated. Please acknowledge to continue submission export.",
      "require_no_pdf_confirmation": true,
      "tests": {
        "q1": {
          "name": "q1",
          "points": 1,
          "suites": [
            {
              "cases": [
                {
                  "code": ">>> assert even_odd_numbers(10) == ([2, 4, 6, 8, 10], [1, 3, 5, 7, 9])\n",
                  "hidden": false,
                  "locked": false
                },
                {
                  "code": ">>> assert even_odd_numbers(5) == ([2, 4], [1, 3, 5])\n",
                  "hidden": false,
                  "locked": false
                }
              ],
              "scored": true,
              "setup": "",
              "teardown": "",
              "type": "doctest"
            }
          ]
        },
        "q10": {
          "name": "q10",
          "points": 1,
          "suites": [
            {
              "cases": [
                {
                  "code": ">>> (cereals_df, pulses_df) = split_dataframes(df)\n>>> assert len(cereals_df) > 0, 'Cereals and tubers dataframe is empty'\n",
                  "hidden": false,
                  "locked": false
                },
                {
                  "code": ">>> assert len(pulses_df) > 0, 'Pulses and nuts dataframe is empty'\n",
                  "hidden": false,
                  "locked": false
                }
              ],
              "scored": true,
              "setup": "",
              "teardown": "",
              "type": "doctest"
            }
          ]
        },
        "q11": {
          "name": "q11",
          "points": 1,
          "suites": [
            {
              "cases": [
                {
                  "code": ">>> (price_stats, usdprice_stats) = calculate_price_stats(df)\n>>> assert not price_stats.empty, 'Price statistics dataframe is empty'\n",
                  "hidden": false,
                  "locked": false
                },
                {
                  "code": ">>> assert not usdprice_stats.empty, 'USD price statistics dataframe is empty'\n",
                  "hidden": false,
                  "locked": false
                }
              ],
              "scored": true,
              "setup": "",
              "teardown": "",
              "type": "doctest"
            }
          ]
        },
        "q12": {
          "name": "q12",
          "points": 1,
          "suites": [
            {
              "cases": [
                {
                  "code": ">>> merged_df = merge_dataframes(cereals_df, pulses_df)\n>>> assert not merged_df.empty, 'Merged dataframe is empty'\n",
                  "hidden": false,
                  "locked": false
                },
                {
                  "code": ">>> assert len(merged_df) == len(cereals_df) + len(pulses_df), 'Merged dataframe has incorrect number of rows'\n",
                  "hidden": false,
                  "locked": false
                }
              ],
              "scored": true,
              "setup": "",
              "teardown": "",
              "type": "doctest"
            }
          ]
        },
        "q13": {
          "name": "q13",
          "points": 1,
          "suites": [
            {
              "cases": [
                {
                  "code": ">>> selected_columns = select_columns()\n>>> assert not selected_columns.empty, 'Selected columns dataframe is empty'\n",
                  "hidden": false,
                  "locked": false
                },
                {
                  "code": ">>> assert list(selected_columns.columns) == ['date_new', 'market', 'commodity', 'price', 'usdprice'], 'Incorrect columns selected'\n",
                  "hidden": false,
                  "locked": false
                }
              ],
              "scored": true,
              "setup": "",
              "teardown": "",
              "type": "doctest"
            }
          ]
        },
        "q14": {
          "name": "q14",
          "points": 1,
          "suites": [
            {
              "cases": [
                {
                  "code": ">>> state_avg_prices = calculate_state_avg_prices(df)\n>>> assert not state_avg_prices.empty, 'State average prices dataframe is empty'\n",
                  "hidden": false,
                  "locked": false
                },
                {
                  "code": ">>> assert 'price' in state_avg_prices.columns, 'Price column not found in state average prices'\n",
                  "hidden": false,
                  "locked": false
                }
              ],
              "scored": true,
              "setup": "",
              "teardown": "",
              "type": "doctest"
            }
          ]
        },
        "q15": {
          "name": "q15",
          "points": 1,
          "suites": [
            {
              "cases": [
                {
                  "code": ">>> top_markets = identify_top_markets(df)\n>>> assert not top_markets.empty, 'Top markets dataframe is empty'\n",
                  "hidden": false,
                  "locked": false
                },
                {
                  "code": ">>> assert len(top_markets) == 5, 'Incorrect number of top markets'\n",
                  "hidden": false,
                  "locked": false
                }
              ],
              "scored": true,
              "setup": "",
              "teardown": "",
              "type": "doctest"
            }
          ]
        },
        "q2": {
          "name": "q2",
          "points": 1,
          "suites": [
            {
              "cases": [
                {
                  "code": ">>> assert word_frequency('Data science is fun. Data science is useful.') == {'data': 2, 'science': 2, 'is': 2, 'fun': 1, 'useful': 1}\n",
                  "hidden": false,
                  "locked": false
                },
                {
                  "code": ">>> assert word_frequency('Hello hello world') == {'hello': 2, 'world': 1}\n",
                  "hidden": false,
                  "locked": false
                }
              ],
              "scored": true,
              "setup": "",
              "teardown": "",
              "type": "doctest"
            }
          ]
        },
        "q3": {
          "name": "q3",
          "points": 1,
          "suites": [
            {
              "cases": [
                {
                  "code": ">>> assert extract_and_sort_values({'a': 3, 'b': 1, 'c': 2}) == [3, 2, 1]\n",
                  "hidden": false,
                  "locked": false
                },
                {
                  "code": ">>> assert extract_and_sort_values({'x': 10, 'y': 5, 'z': 20}) == [20, 10, 5]\n",
                  "hidden": false,
                  "locked": false
                }
              ],
              "scored": true,
              "setup": "",
              "teardown": "",
              "type": "doctest"
            }
          ]
        },
        "q4": {
          "name": "q4",
          "points": 1,
          "suites": [
            {
              "cases": [
                {
                  "code": ">>> assert merge_lists_to_dict(['a', 'b', 'c'], [3, 2, 1]) == {'a': 3, 'b': 2, 'c': 1}\n",
                  "hidden": false,
                  "locked": false
                },
                {
                  "code": ">>> assert merge_lists_to_dict(['x', 'y'], [10, 20]) == {'x': 10, 'y': 20}\n",
                  "hidden": false,
                  "locked": false
                }
              ],
              "scored": true,
              "setup": "",
              "teardown": "",
              "type": "doctest"
            }
          ]
        },
        "q5": {
          "name": "q5",
          "points": 1,
          "suites": [
            {
              "cases": [
                {
                  "code": ">>> assert least_common_multiple(4, 6) == 12\n",
                  "hidden": false,
                  "locked": false
                },
                {
                  "code": ">>> assert least_common_multiple(5, 10) == 10\n",
                  "hidden": false,
                  "locked": false
                }
              ],
              "scored": true,
              "setup": "",
              "teardown": "",
              "type": "doctest"
            }
          ]
        },
        "q6": {
          "name": "q6",
          "points": 1,
          "suites": [
            {
              "cases": [
                {
                  "code": ">>> assert get_nearest_farthest((0, 0), [(1, 1), (3, 3), (-1, -1)]) == (0, 1)\n",
                  "hidden": false,
                  "locked": false
                },
                {
                  "code": ">>> assert get_nearest_farthest((0, 0), [(2, 2), (1, 1), (3, 3)]) == (1, 2)\n",
                  "hidden": false,
                  "locked": false
                }
              ],
              "scored": true,
              "setup": "",
              "teardown": "",
              "type": "doctest"
            }
          ]
        },
        "q7": {
          "name": "q7",
          "points": 1,
          "suites": [
            {
              "cases": [
                {
                  "code": ">>> assert filter_divisible(10, 2) == [1, 3, 5, 7, 9]\n",
                  "hidden": false,
                  "locked": false
                },
                {
                  "code": ">>> assert filter_divisible(15, 3) == [1, 2, 4, 5, 7, 8, 10, 11, 13, 14]\n",
                  "hidden": false,
                  "locked": false
                }
              ],
              "scored": true,
              "setup": "",
              "teardown": "",
              "type": "doctest"
            }
          ]
        },
        "q8": {
          "name": "q8",
          "points": 1,
          "suites": [
            {
              "cases": [
                {
                  "code": ">>> assert flatten_and_unique([[2, 13, 44], [6, 7, 2]]) == [2, 6, 7, 13, 44]\n",
                  "hidden": false,
                  "locked": false
                },
                {
                  "code": ">>> assert flatten_and_unique([[1, 2, 3], [3, 4, 5]]) == [1, 2, 3, 4, 5]\n",
                  "hidden": false,
                  "locked": false
                }
              ],
              "scored": true,
              "setup": "",
              "teardown": "",
              "type": "doctest"
            }
          ]
        },
        "q9": {
          "name": "q9",
          "points": 1,
          "suites": [
            {
              "cases": [
                {
                  "code": ">>> df = create_date_new(df)\n>>> assert 'date_new' in df.columns, \"Column 'date_new' not found in the dataframe\"\n",
                  "hidden": false,
                  "locked": false
                },
                {
                  "code": ">>> assert df['date_new'].dtype == 'datetime64[ns]', \"Column 'date_new' is not in datetime format\"\n",
                  "hidden": false,
                  "locked": false
                }
              ],
              "scored": true,
              "setup": "",
              "teardown": "",
              "type": "doctest"
            }
          ]
        }
      }
    },
    "colab": {
      "provenance": [],
      "include_colab_link": true
    }
  },
  "nbformat": 4,
  "nbformat_minor": 0
}